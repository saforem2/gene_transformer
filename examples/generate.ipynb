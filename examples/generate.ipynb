{
 "cells": [
  {
   "cell_type": "markdown",
   "metadata": {
    "colab_type": "text",
    "id": "view-in-github"
   },
   "source": [
    "<a href=\"https://colab.research.google.com/github/ramanathanlab/genslm/blob/main/examples/generate.ipynb\" target=\"_parent\"><img src=\"https://colab.research.google.com/assets/colab-badge.svg\" alt=\"Open In Colab\"/></a>"
   ]
  },
  {
   "cell_type": "code",
   "execution_count": 2,
   "metadata": {
    "colab": {
     "base_uri": "https://localhost:8080/"
    },
    "id": "YZ6uvXc6DDpG",
    "outputId": "48febbf8-0472-4811-abd1-cdaf5f95cff9"
   },
   "outputs": [
    {
     "name": "stdout",
     "output_type": "stream",
     "text": [
      "Looking in indexes: https://pypi.org/simple, https://us-python.pkg.dev/colab-wheels/public/simple/\n",
      "Collecting git+https://github.com/ramanathanlab/genslm\n",
      "  Cloning https://github.com/ramanathanlab/genslm to /tmp/pip-req-build-3222q863\n",
      "  Running command git clone -q https://github.com/ramanathanlab/genslm /tmp/pip-req-build-3222q863\n",
      "Collecting transformers@ git+https://github.com/maxzvyagin/transformers\n",
      "  Cloning https://github.com/maxzvyagin/transformers to /tmp/pip-install-k_9gz20w/transformers_f804a482b2c84233b81b363bb7ed240d\n",
      "  Running command git clone -q https://github.com/maxzvyagin/transformers /tmp/pip-install-k_9gz20w/transformers_f804a482b2c84233b81b363bb7ed240d\n",
      "  Installing build dependencies ... \u001b[?25l\u001b[?25hdone\n",
      "  Getting requirements to build wheel ... \u001b[?25l\u001b[?25hdone\n",
      "    Preparing wheel metadata ... \u001b[?25l\u001b[?25hdone\n",
      "Requirement already satisfied: pytorch-lightning==1.6.5 in /usr/local/lib/python3.7/dist-packages (from genslm==0.0.1a1) (1.6.5)\n",
      "Requirement already satisfied: wandb in /usr/local/lib/python3.7/dist-packages (from genslm==0.0.1a1) (0.13.5)\n",
      "Requirement already satisfied: pydantic==1.10.2 in /usr/local/lib/python3.7/dist-packages (from genslm==0.0.1a1) (1.10.2)\n",
      "Requirement already satisfied: biopython==1.79 in /usr/local/lib/python3.7/dist-packages (from genslm==0.0.1a1) (1.79)\n",
      "Requirement already satisfied: pandas in /usr/local/lib/python3.7/dist-packages (from genslm==0.0.1a1) (1.3.5)\n",
      "Requirement already satisfied: natsort in /usr/local/lib/python3.7/dist-packages (from genslm==0.0.1a1) (5.5.0)\n",
      "Requirement already satisfied: Jinja2 in /usr/local/lib/python3.7/dist-packages (from genslm==0.0.1a1) (2.11.3)\n",
      "Requirement already satisfied: h5py==3.7.0 in /usr/local/lib/python3.7/dist-packages (from genslm==0.0.1a1) (3.7.0)\n",
      "Requirement already satisfied: lightning-transformers==0.2.1 in /usr/local/lib/python3.7/dist-packages (from genslm==0.0.1a1) (0.2.1)\n",
      "Requirement already satisfied: importlib-metadata in /usr/local/lib/python3.7/dist-packages (from transformers@ git+https://github.com/maxzvyagin/transformers->genslm==0.0.1a1) (4.13.0)\n",
      "Requirement already satisfied: numpy>=1.17 in /usr/local/lib/python3.7/dist-packages (from transformers@ git+https://github.com/maxzvyagin/transformers->genslm==0.0.1a1) (1.21.6)\n",
      "Requirement already satisfied: tqdm>=4.27 in /usr/local/lib/python3.7/dist-packages (from transformers@ git+https://github.com/maxzvyagin/transformers->genslm==0.0.1a1) (4.64.1)\n",
      "Requirement already satisfied: filelock in /usr/local/lib/python3.7/dist-packages (from transformers@ git+https://github.com/maxzvyagin/transformers->genslm==0.0.1a1) (3.8.0)\n",
      "Requirement already satisfied: pyyaml>=5.1 in /usr/local/lib/python3.7/dist-packages (from transformers@ git+https://github.com/maxzvyagin/transformers->genslm==0.0.1a1) (6.0)\n",
      "Requirement already satisfied: regex!=2019.12.17 in /usr/local/lib/python3.7/dist-packages (from transformers@ git+https://github.com/maxzvyagin/transformers->genslm==0.0.1a1) (2022.6.2)\n",
      "Requirement already satisfied: packaging>=20.0 in /usr/local/lib/python3.7/dist-packages (from transformers@ git+https://github.com/maxzvyagin/transformers->genslm==0.0.1a1) (21.3)\n",
      "Requirement already satisfied: requests in /usr/local/lib/python3.7/dist-packages (from transformers@ git+https://github.com/maxzvyagin/transformers->genslm==0.0.1a1) (2.23.0)\n",
      "Requirement already satisfied: huggingface-hub<1.0,>=0.1.0 in /usr/local/lib/python3.7/dist-packages (from transformers@ git+https://github.com/maxzvyagin/transformers->genslm==0.0.1a1) (0.10.1)\n",
      "Requirement already satisfied: tokenizers!=0.11.3,<0.13,>=0.11.1 in /usr/local/lib/python3.7/dist-packages (from transformers@ git+https://github.com/maxzvyagin/transformers->genslm==0.0.1a1) (0.12.1)\n",
      "Requirement already satisfied: torchmetrics[text] in /usr/local/lib/python3.7/dist-packages (from lightning-transformers==0.2.1->genslm==0.0.1a1) (0.10.2)\n",
      "Requirement already satisfied: torch>=1.10.0 in /usr/local/lib/python3.7/dist-packages (from lightning-transformers==0.2.1->genslm==0.0.1a1) (1.12.1+cu113)\n",
      "Requirement already satisfied: sentencepiece in /usr/local/lib/python3.7/dist-packages (from lightning-transformers==0.2.1->genslm==0.0.1a1) (0.1.97)\n",
      "Requirement already satisfied: datasets in /usr/local/lib/python3.7/dist-packages (from lightning-transformers==0.2.1->genslm==0.0.1a1) (2.6.1)\n",
      "Requirement already satisfied: Pillow in /usr/local/lib/python3.7/dist-packages (from lightning-transformers==0.2.1->genslm==0.0.1a1) (7.1.2)\n",
      "Requirement already satisfied: protobuf==3.20.1 in /usr/local/lib/python3.7/dist-packages (from lightning-transformers==0.2.1->genslm==0.0.1a1) (3.20.1)\n",
      "Requirement already satisfied: typing-extensions>=4.1.0 in /usr/local/lib/python3.7/dist-packages (from pydantic==1.10.2->genslm==0.0.1a1) (4.1.1)\n",
      "Requirement already satisfied: pyDeprecate>=0.3.1 in /usr/local/lib/python3.7/dist-packages (from pytorch-lightning==1.6.5->genslm==0.0.1a1) (0.3.2)\n",
      "Requirement already satisfied: tensorboard>=2.2.0 in /usr/local/lib/python3.7/dist-packages (from pytorch-lightning==1.6.5->genslm==0.0.1a1) (2.11.0)\n",
      "Requirement already satisfied: fsspec[http]!=2021.06.0,>=2021.05.0 in /usr/local/lib/python3.7/dist-packages (from pytorch-lightning==1.6.5->genslm==0.0.1a1) (2022.10.0)\n",
      "Requirement already satisfied: aiohttp!=4.0.0a0,!=4.0.0a1 in /usr/local/lib/python3.7/dist-packages (from fsspec[http]!=2021.06.0,>=2021.05.0->pytorch-lightning==1.6.5->genslm==0.0.1a1) (3.8.3)\n",
      "Requirement already satisfied: charset-normalizer<3.0,>=2.0 in /usr/local/lib/python3.7/dist-packages (from aiohttp!=4.0.0a0,!=4.0.0a1->fsspec[http]!=2021.06.0,>=2021.05.0->pytorch-lightning==1.6.5->genslm==0.0.1a1) (2.1.1)\n",
      "Requirement already satisfied: aiosignal>=1.1.2 in /usr/local/lib/python3.7/dist-packages (from aiohttp!=4.0.0a0,!=4.0.0a1->fsspec[http]!=2021.06.0,>=2021.05.0->pytorch-lightning==1.6.5->genslm==0.0.1a1) (1.3.1)\n",
      "Requirement already satisfied: attrs>=17.3.0 in /usr/local/lib/python3.7/dist-packages (from aiohttp!=4.0.0a0,!=4.0.0a1->fsspec[http]!=2021.06.0,>=2021.05.0->pytorch-lightning==1.6.5->genslm==0.0.1a1) (22.1.0)\n",
      "Requirement already satisfied: yarl<2.0,>=1.0 in /usr/local/lib/python3.7/dist-packages (from aiohttp!=4.0.0a0,!=4.0.0a1->fsspec[http]!=2021.06.0,>=2021.05.0->pytorch-lightning==1.6.5->genslm==0.0.1a1) (1.8.1)\n",
      "Requirement already satisfied: asynctest==0.13.0 in /usr/local/lib/python3.7/dist-packages (from aiohttp!=4.0.0a0,!=4.0.0a1->fsspec[http]!=2021.06.0,>=2021.05.0->pytorch-lightning==1.6.5->genslm==0.0.1a1) (0.13.0)\n",
      "Requirement already satisfied: async-timeout<5.0,>=4.0.0a3 in /usr/local/lib/python3.7/dist-packages (from aiohttp!=4.0.0a0,!=4.0.0a1->fsspec[http]!=2021.06.0,>=2021.05.0->pytorch-lightning==1.6.5->genslm==0.0.1a1) (4.0.2)\n",
      "Requirement already satisfied: frozenlist>=1.1.1 in /usr/local/lib/python3.7/dist-packages (from aiohttp!=4.0.0a0,!=4.0.0a1->fsspec[http]!=2021.06.0,>=2021.05.0->pytorch-lightning==1.6.5->genslm==0.0.1a1) (1.3.3)\n",
      "Requirement already satisfied: multidict<7.0,>=4.5 in /usr/local/lib/python3.7/dist-packages (from aiohttp!=4.0.0a0,!=4.0.0a1->fsspec[http]!=2021.06.0,>=2021.05.0->pytorch-lightning==1.6.5->genslm==0.0.1a1) (6.0.2)\n",
      "Requirement already satisfied: pyparsing!=3.0.5,>=2.0.2 in /usr/local/lib/python3.7/dist-packages (from packaging>=20.0->transformers@ git+https://github.com/maxzvyagin/transformers->genslm==0.0.1a1) (3.0.9)\n",
      "Requirement already satisfied: tensorboard-plugin-wit>=1.6.0 in /usr/local/lib/python3.7/dist-packages (from tensorboard>=2.2.0->pytorch-lightning==1.6.5->genslm==0.0.1a1) (1.8.1)\n",
      "Requirement already satisfied: markdown>=2.6.8 in /usr/local/lib/python3.7/dist-packages (from tensorboard>=2.2.0->pytorch-lightning==1.6.5->genslm==0.0.1a1) (3.4.1)\n",
      "Requirement already satisfied: google-auth-oauthlib<0.5,>=0.4.1 in /usr/local/lib/python3.7/dist-packages (from tensorboard>=2.2.0->pytorch-lightning==1.6.5->genslm==0.0.1a1) (0.4.6)\n",
      "Requirement already satisfied: wheel>=0.26 in /usr/local/lib/python3.7/dist-packages (from tensorboard>=2.2.0->pytorch-lightning==1.6.5->genslm==0.0.1a1) (0.38.3)\n",
      "Requirement already satisfied: grpcio>=1.24.3 in /usr/local/lib/python3.7/dist-packages (from tensorboard>=2.2.0->pytorch-lightning==1.6.5->genslm==0.0.1a1) (1.50.0)\n",
      "Requirement already satisfied: tensorboard-data-server<0.7.0,>=0.6.0 in /usr/local/lib/python3.7/dist-packages (from tensorboard>=2.2.0->pytorch-lightning==1.6.5->genslm==0.0.1a1) (0.6.1)\n",
      "Requirement already satisfied: werkzeug>=1.0.1 in /usr/local/lib/python3.7/dist-packages (from tensorboard>=2.2.0->pytorch-lightning==1.6.5->genslm==0.0.1a1) (1.0.1)\n",
      "Requirement already satisfied: absl-py>=0.4 in /usr/local/lib/python3.7/dist-packages (from tensorboard>=2.2.0->pytorch-lightning==1.6.5->genslm==0.0.1a1) (1.3.0)\n",
      "Requirement already satisfied: setuptools>=41.0.0 in /usr/local/lib/python3.7/dist-packages (from tensorboard>=2.2.0->pytorch-lightning==1.6.5->genslm==0.0.1a1) (57.4.0)\n",
      "Requirement already satisfied: google-auth<3,>=1.6.3 in /usr/local/lib/python3.7/dist-packages (from tensorboard>=2.2.0->pytorch-lightning==1.6.5->genslm==0.0.1a1) (2.14.1)\n",
      "Requirement already satisfied: cachetools<6.0,>=2.0.0 in /usr/local/lib/python3.7/dist-packages (from google-auth<3,>=1.6.3->tensorboard>=2.2.0->pytorch-lightning==1.6.5->genslm==0.0.1a1) (5.2.0)\n",
      "Requirement already satisfied: rsa<5,>=3.1.4 in /usr/local/lib/python3.7/dist-packages (from google-auth<3,>=1.6.3->tensorboard>=2.2.0->pytorch-lightning==1.6.5->genslm==0.0.1a1) (4.9)\n",
      "Requirement already satisfied: pyasn1-modules>=0.2.1 in /usr/local/lib/python3.7/dist-packages (from google-auth<3,>=1.6.3->tensorboard>=2.2.0->pytorch-lightning==1.6.5->genslm==0.0.1a1) (0.2.8)\n",
      "Requirement already satisfied: six>=1.9.0 in /usr/local/lib/python3.7/dist-packages (from google-auth<3,>=1.6.3->tensorboard>=2.2.0->pytorch-lightning==1.6.5->genslm==0.0.1a1) (1.15.0)\n",
      "Requirement already satisfied: requests-oauthlib>=0.7.0 in /usr/local/lib/python3.7/dist-packages (from google-auth-oauthlib<0.5,>=0.4.1->tensorboard>=2.2.0->pytorch-lightning==1.6.5->genslm==0.0.1a1) (1.3.1)\n",
      "Requirement already satisfied: zipp>=0.5 in /usr/local/lib/python3.7/dist-packages (from importlib-metadata->transformers@ git+https://github.com/maxzvyagin/transformers->genslm==0.0.1a1) (3.10.0)\n",
      "Requirement already satisfied: pyasn1<0.5.0,>=0.4.6 in /usr/local/lib/python3.7/dist-packages (from pyasn1-modules>=0.2.1->google-auth<3,>=1.6.3->tensorboard>=2.2.0->pytorch-lightning==1.6.5->genslm==0.0.1a1) (0.4.8)\n",
      "Requirement already satisfied: certifi>=2017.4.17 in /usr/local/lib/python3.7/dist-packages (from requests->transformers@ git+https://github.com/maxzvyagin/transformers->genslm==0.0.1a1) (2022.9.24)\n",
      "Requirement already satisfied: urllib3!=1.25.0,!=1.25.1,<1.26,>=1.21.1 in /usr/local/lib/python3.7/dist-packages (from requests->transformers@ git+https://github.com/maxzvyagin/transformers->genslm==0.0.1a1) (1.25.11)\n",
      "Requirement already satisfied: idna<3,>=2.5 in /usr/local/lib/python3.7/dist-packages (from requests->transformers@ git+https://github.com/maxzvyagin/transformers->genslm==0.0.1a1) (2.10)\n",
      "Requirement already satisfied: chardet<4,>=3.0.2 in /usr/local/lib/python3.7/dist-packages (from requests->transformers@ git+https://github.com/maxzvyagin/transformers->genslm==0.0.1a1) (3.0.4)\n",
      "Requirement already satisfied: oauthlib>=3.0.0 in /usr/local/lib/python3.7/dist-packages (from requests-oauthlib>=0.7.0->google-auth-oauthlib<0.5,>=0.4.1->tensorboard>=2.2.0->pytorch-lightning==1.6.5->genslm==0.0.1a1) (3.2.2)\n",
      "Requirement already satisfied: pyarrow>=6.0.0 in /usr/local/lib/python3.7/dist-packages (from datasets->lightning-transformers==0.2.1->genslm==0.0.1a1) (6.0.1)\n",
      "Requirement already satisfied: multiprocess in /usr/local/lib/python3.7/dist-packages (from datasets->lightning-transformers==0.2.1->genslm==0.0.1a1) (0.70.13)\n",
      "Requirement already satisfied: dill<0.3.6 in /usr/local/lib/python3.7/dist-packages (from datasets->lightning-transformers==0.2.1->genslm==0.0.1a1) (0.3.5.1)\n",
      "Requirement already satisfied: xxhash in /usr/local/lib/python3.7/dist-packages (from datasets->lightning-transformers==0.2.1->genslm==0.0.1a1) (3.1.0)\n",
      "Requirement already satisfied: responses<0.19 in /usr/local/lib/python3.7/dist-packages (from datasets->lightning-transformers==0.2.1->genslm==0.0.1a1) (0.18.0)\n",
      "Requirement already satisfied: MarkupSafe>=0.23 in /usr/local/lib/python3.7/dist-packages (from Jinja2->genslm==0.0.1a1) (2.0.1)\n",
      "Requirement already satisfied: pytz>=2017.3 in /usr/local/lib/python3.7/dist-packages (from pandas->genslm==0.0.1a1) (2022.6)\n",
      "Requirement already satisfied: python-dateutil>=2.7.3 in /usr/local/lib/python3.7/dist-packages (from pandas->genslm==0.0.1a1) (2.8.2)\n",
      "Requirement already satisfied: nltk>=3.6 in /usr/local/lib/python3.7/dist-packages (from torchmetrics[text]->lightning-transformers==0.2.1->genslm==0.0.1a1) (3.7)\n",
      "Requirement already satisfied: joblib in /usr/local/lib/python3.7/dist-packages (from nltk>=3.6->torchmetrics[text]->lightning-transformers==0.2.1->genslm==0.0.1a1) (1.2.0)\n",
      "Requirement already satisfied: click in /usr/local/lib/python3.7/dist-packages (from nltk>=3.6->torchmetrics[text]->lightning-transformers==0.2.1->genslm==0.0.1a1) (7.1.2)\n",
      "Requirement already satisfied: shortuuid>=0.5.0 in /usr/local/lib/python3.7/dist-packages (from wandb->genslm==0.0.1a1) (1.0.11)\n",
      "Requirement already satisfied: psutil>=5.0.0 in /usr/local/lib/python3.7/dist-packages (from wandb->genslm==0.0.1a1) (5.4.8)\n",
      "Requirement already satisfied: pathtools in /usr/local/lib/python3.7/dist-packages (from wandb->genslm==0.0.1a1) (0.1.2)\n",
      "Requirement already satisfied: docker-pycreds>=0.4.0 in /usr/local/lib/python3.7/dist-packages (from wandb->genslm==0.0.1a1) (0.4.0)\n",
      "Requirement already satisfied: setproctitle in /usr/local/lib/python3.7/dist-packages (from wandb->genslm==0.0.1a1) (1.3.2)\n",
      "Requirement already satisfied: GitPython>=1.0.0 in /usr/local/lib/python3.7/dist-packages (from wandb->genslm==0.0.1a1) (3.1.29)\n",
      "Requirement already satisfied: promise<3,>=2.0 in /usr/local/lib/python3.7/dist-packages (from wandb->genslm==0.0.1a1) (2.3)\n",
      "Requirement already satisfied: sentry-sdk>=1.0.0 in /usr/local/lib/python3.7/dist-packages (from wandb->genslm==0.0.1a1) (1.9.0)\n",
      "Requirement already satisfied: gitdb<5,>=4.0.1 in /usr/local/lib/python3.7/dist-packages (from GitPython>=1.0.0->wandb->genslm==0.0.1a1) (4.0.9)\n",
      "Requirement already satisfied: smmap<6,>=3.0.1 in /usr/local/lib/python3.7/dist-packages (from gitdb<5,>=4.0.1->GitPython>=1.0.0->wandb->genslm==0.0.1a1) (5.0.0)\n"
     ]
    }
   ],
   "source": [
    "# NOTE: You may need to run this twice due to a pip dependency conflict\n",
    "!pip install git+https://github.com/ramanathanlab/genslm"
   ]
  },
  {
   "cell_type": "code",
   "execution_count": 3,
   "metadata": {
    "colab": {
     "base_uri": "https://localhost:8080/"
    },
    "id": "lrW0XAytDo_h",
    "outputId": "cee6457d-a564-4f16-9b75-7ebf4f272d64"
   },
   "outputs": [
    {
     "name": "stdout",
     "output_type": "stream",
     "text": [
      "Mounted at /content/gdrive\n"
     ]
    }
   ],
   "source": [
    "from google.colab import drive\n",
    "\n",
    "drive.mount(\"/content/gdrive\")"
   ]
  },
  {
   "cell_type": "code",
   "execution_count": 11,
   "metadata": {
    "colab": {
     "base_uri": "https://localhost:8080/"
    },
    "id": "nEjqvA64D5MX",
    "outputId": "ad60b947-9263-4b16-d67c-6d2ce0eba250"
   },
   "outputs": [
    {
     "name": "stdout",
     "output_type": "stream",
     "text": [
      "gdrive/MyDrive/patric_25m_epoch01-val_loss_0.57_bias_removed.pt\n"
     ]
    }
   ],
   "source": [
    "!ls gdrive/MyDrive/patric_25m_epoch01-val_loss_0.57_bias_removed.pt\n",
    "# This currently requires you to download the 25M model weights from Globus"
   ]
  },
  {
   "cell_type": "code",
   "execution_count": 2,
   "metadata": {
    "colab": {
     "base_uri": "https://localhost:8080/"
    },
    "id": "dI0g0tXqDDpJ",
    "outputId": "ee41c4df-734c-4c74-cbf9-df2d583e1f6e"
   },
   "outputs": [
    {
     "name": "stdout",
     "output_type": "stream",
     "text": [
      "ATG CCT TAT GGT CAC TTG TGC TCC CAC GCT\n",
      "ATG TCC GGC CAA GAC AAC CAG CAC TCG GTA\n"
     ]
    }
   ],
   "source": [
    "import torch\n",
    "from genslm import GenSLM\n",
    "\n",
    "# Load model\n",
    "model = GenSLM(\"genslm_25M_patric\", model_cache_dir=\"/content/gdrive/MyDrive\")\n",
    "model.eval()\n",
    "\n",
    "# Select GPU device if it is available, else use CPU\n",
    "device = \"cuda\" if torch.cuda.is_available() else \"cpu\"\n",
    "model.to(device)\n",
    "\n",
    "# Prompt the language model with a start codon\n",
    "prompt = model.tokenizer.encode(\"ATG\", return_tensors=\"pt\").to(device)\n",
    "\n",
    "tokens = model.model.generate(\n",
    "    prompt,\n",
    "    max_length=10,  # Increase this to generate longer sequences\n",
    "    min_length=10,\n",
    "    do_sample=True,\n",
    "    top_k=50,\n",
    "    top_p=0.95,\n",
    "    num_return_sequences=2,  # Change the number of sequences to generate\n",
    "    remove_invalid_values=True,\n",
    "    use_cache=True,\n",
    "    pad_token_id=model.tokenizer.encode(\"[PAD]\")[0],\n",
    "    temperature=1.0,\n",
    ")\n",
    "\n",
    "sequences = model.tokenizer.batch_decode(tokens, skip_special_tokens=True)\n",
    "\n",
    "for sequence in sequences:\n",
    "    print(sequence)"
   ]
  },
  {
   "cell_type": "code",
   "execution_count": null,
   "metadata": {
    "id": "Tt8zLQyNDDpL"
   },
   "outputs": [],
   "source": []
  }
 ],
 "metadata": {
  "colab": {
   "include_colab_link": true,
   "provenance": []
  },
  "kernelspec": {
   "display_name": "Python 3.9.12 ('env': venv)",
   "language": "python",
   "name": "python3"
  },
  "language_info": {
   "codemirror_mode": {
    "name": "ipython",
    "version": 3
   },
   "file_extension": ".py",
   "mimetype": "text/x-python",
   "name": "python",
   "nbconvert_exporter": "python",
   "pygments_lexer": "ipython3",
   "version": "3.9.12"
  },
  "orig_nbformat": 4,
  "vscode": {
   "interpreter": {
    "hash": "0d02ea457ae46b54ca74bf816cd6323c111c44d0be6cf49595dd77d3fdf56254"
   }
  }
 },
 "nbformat": 4,
 "nbformat_minor": 0
}
